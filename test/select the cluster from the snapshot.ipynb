{
 "cells": [
  {
   "cell_type": "code",
   "execution_count": 2,
   "metadata": {
    "ExecuteTime": {
     "end_time": "2019-04-13T20:32:13.178541Z",
     "start_time": "2019-04-13T20:32:12.868316Z"
    }
   },
   "outputs": [],
   "source": [
    "import matplotlib\n",
    "%matplotlib inline\n",
    "from pylab import *\n",
    "import os, h5py\n",
    "from readsnapsgl import readsnapsgl\n",
    "\n",
    "matplotlib.rcParams['xtick.labelsize'] = 16\n",
    "matplotlib.rcParams['ytick.labelsize'] = 16\n",
    "\n",
    "safecolor={ 'silver':'#c0c0c0', 'gray':'#808080', 'black':'#000000', 'red':'#ff0000',\n",
    "    'maroon':'#800000', 'yellow':'#ffff00', 'olive':'#707030', 'lime':'#00ee00',\n",
    "    'green':'#009000', 'aqua':'#00eeee', 'teal':'#00a0a0', 'blue':'#0000ff',\n",
    "    'nave':'#000080', 'fuchsia':'#ff00ff', 'purple':'#900090'}"
   ]
  },
  {
   "cell_type": "code",
   "execution_count": 3,
   "metadata": {
    "ExecuteTime": {
     "end_time": "2019-04-13T20:32:14.328233Z",
     "start_time": "2019-04-13T20:32:14.290701Z"
    }
   },
   "outputs": [],
   "source": [
    "# The example cluster is from the 300 project run with GIZMO-Simba\n",
    "# cluster center and R200 from AHF halo catalogue\n",
    "sf = h5py.File('snap_128.hdf5','r')\n",
    "cc = np.asarray([  500095.89011853, 500286.04465527,  500481.30095660])\n",
    "rr = 1446.17"
   ]
  },
  {
   "cell_type": "code",
   "execution_count": 4,
   "metadata": {
    "ExecuteTime": {
     "end_time": "2019-04-13T20:32:15.819726Z",
     "start_time": "2019-04-13T20:32:15.780048Z"
    }
   },
   "outputs": [
    {
     "data": {
      "text/plain": [
       "<KeysViewHDF5 ['Header', 'PartType0', 'PartType1', 'PartType2', 'PartType3', 'PartType4', 'PartType5']>"
      ]
     },
     "execution_count": 4,
     "metadata": {},
     "output_type": "execute_result"
    }
   ],
   "source": [
    "# f = h5py.File(filename, 'w')\n",
    "\n",
    "# for key in data:\n",
    "#     f.create_dataset(key, data[key].shape, dtype=data[key].dtype,\n",
    "#                      compression='gzip')[...] = data[key]\n",
    "\n",
    "# f.close()\n",
    "\n",
    "sf.keys()"
   ]
  },
  {
   "cell_type": "code",
   "execution_count": 39,
   "metadata": {
    "ExecuteTime": {
     "end_time": "2019-04-15T09:13:05.268328Z",
     "start_time": "2019-04-15T09:13:05.250548Z"
    }
   },
   "outputs": [
    {
     "data": {
      "text/plain": [
       "[('BoxSize', 1000000.0),\n",
       " ('Flag_Cooling', 1),\n",
       " ('Flag_DoublePrecision', 0),\n",
       " ('Flag_Feedback', 1),\n",
       " ('Flag_IC_Info', 3),\n",
       " ('Flag_Metals', 11),\n",
       " ('Flag_Sfr', 1),\n",
       " ('Flag_StellarAge', 1),\n",
       " ('HubbleParam', 0.6777),\n",
       " ('MassTable', array([0., 0., 0., 0., 0., 0.])),\n",
       " ('NumFilesPerSnapshot', 1),\n",
       " ('NumPart_ThisFile',\n",
       "  array([ 2903039,  3198976,   397824, 13902214,   252795,     1770],\n",
       "        dtype=uint32)),\n",
       " ('NumPart_Total',\n",
       "  array([ 2903039,  3198976,   397824, 13902214,   252795,     1770],\n",
       "        dtype=uint32)),\n",
       " ('NumPart_Total_HighWord', array([0, 0, 0, 0, 0, 0], dtype=uint32)),\n",
       " ('Omega0', 0.307115),\n",
       " ('OmegaLambda', 0.692885),\n",
       " ('Redshift', -2.220446049250313e-16),\n",
       " ('Time', 1.0000000000000002)]"
      ]
     },
     "execution_count": 39,
     "metadata": {},
     "output_type": "execute_result"
    }
   ],
   "source": [
    "list(sf['Header'].attrs.items())"
   ]
  },
  {
   "cell_type": "code",
   "execution_count": 40,
   "metadata": {
    "ExecuteTime": {
     "end_time": "2019-04-15T09:14:46.715891Z",
     "start_time": "2019-04-15T09:14:46.700902Z"
    }
   },
   "outputs": [],
   "source": [
    "fo = h5py.File('snap_CL288.hdf5','w')"
   ]
  },
  {
   "cell_type": "code",
   "execution_count": 41,
   "metadata": {
    "ExecuteTime": {
     "end_time": "2019-04-15T09:14:49.022021Z",
     "start_time": "2019-04-15T09:14:49.011423Z"
    }
   },
   "outputs": [],
   "source": [
    "dsh=fo.create_group(\"Header\")\n",
    "for key, value in sf['Header'].attrs.items():\n",
    "    dsh.attrs[key] = value\n",
    "# fo.close()"
   ]
  },
  {
   "cell_type": "code",
   "execution_count": 42,
   "metadata": {
    "ExecuteTime": {
     "end_time": "2019-04-15T09:14:50.546977Z",
     "start_time": "2019-04-15T09:14:50.531866Z"
    }
   },
   "outputs": [],
   "source": [
    "gp0=fo.create_group(\"PartType0\")\n",
    "gp1=fo.create_group(\"PartType1\")\n",
    "gp2=fo.create_group(\"PartType2\")\n",
    "gp3=fo.create_group(\"PartType3\")\n",
    "gp4=fo.create_group(\"PartType4\")\n",
    "gp5=fo.create_group(\"PartType5\")"
   ]
  },
  {
   "cell_type": "code",
   "execution_count": 29,
   "metadata": {
    "ExecuteTime": {
     "end_time": "2019-04-14T22:16:14.573453Z",
     "start_time": "2019-04-14T22:16:14.559658Z"
    }
   },
   "outputs": [
    {
     "name": "stdout",
     "output_type": "stream",
     "text": [
      "AGS-Softening\n",
      "Coordinates\n",
      "DelayTime\n",
      "Density\n",
      "ElectronAbundance\n",
      "FractionH2\n",
      "GrackleHI\n",
      "GrackleHII\n",
      "GrackleHM\n",
      "GrackleHeI\n",
      "GrackleHeII\n",
      "GrackleHeIII\n",
      "HaloID\n",
      "ID_Generations\n",
      "InternalEnergy\n",
      "Masses\n",
      "Metallicity\n",
      "NWindLaunches\n",
      "NeutralHydrogenAbundance\n",
      "ParticleIDs\n",
      "Potential\n",
      "Sigma\n",
      "SmoothingLength\n",
      "StarFormationRate\n",
      "Velocities\n"
     ]
    }
   ],
   "source": [
    "for i in sf[\"PartType0\"].keys():\n",
    "    print(i)"
   ]
  },
  {
   "cell_type": "code",
   "execution_count": 43,
   "metadata": {
    "ExecuteTime": {
     "end_time": "2019-04-15T09:14:55.817316Z",
     "start_time": "2019-04-15T09:14:55.505554Z"
    }
   },
   "outputs": [],
   "source": [
    "gpos=sf[\"PartType0/Coordinates\"][:]\n",
    "idgr=np.sqrt(np.sum((gpos-cc)**2,axis=1))<=rr\n",
    "Ng0=gpos[idgr,0].size\n",
    "# save gas particles\n",
    "for pd in sf[\"PartType0\"].keys():\n",
    "    gp0.create_dataset(pd, data=sf[\"PartType0/\"+pd][:][idgr])"
   ]
  },
  {
   "cell_type": "code",
   "execution_count": 44,
   "metadata": {
    "ExecuteTime": {
     "end_time": "2019-04-15T09:14:56.281339Z",
     "start_time": "2019-04-15T09:14:55.941925Z"
    }
   },
   "outputs": [],
   "source": [
    "# dm particles\n",
    "gpos=sf[\"PartType1/Coordinates\"][:]\n",
    "idgr=np.sqrt(np.sum((gpos-cc)**2,axis=1))<=rr\n",
    "Ng1=gpos[idgr,0].size\n",
    "for pd in sf[\"PartType1\"].keys():\n",
    "    gp1.create_dataset(pd, data=sf[\"PartType1/\"+pd][:][idgr])"
   ]
  },
  {
   "cell_type": "code",
   "execution_count": 45,
   "metadata": {
    "ExecuteTime": {
     "end_time": "2019-04-15T09:14:56.744009Z",
     "start_time": "2019-04-15T09:14:56.698485Z"
    }
   },
   "outputs": [],
   "source": [
    "# star particles\n",
    "gpos=sf[\"PartType4/Coordinates\"][:]\n",
    "idgr=np.sqrt(np.sum((gpos-cc)**2,axis=1))<=rr\n",
    "Ng4=gpos[idgr,0].size\n",
    "for pd in sf[\"PartType4\"].keys():\n",
    "    gp4.create_dataset(pd, data=sf[\"PartType4/\"+pd][:][idgr])"
   ]
  },
  {
   "cell_type": "code",
   "execution_count": 46,
   "metadata": {
    "ExecuteTime": {
     "end_time": "2019-04-15T09:14:57.753950Z",
     "start_time": "2019-04-15T09:14:57.736022Z"
    }
   },
   "outputs": [],
   "source": [
    "# bh particles\n",
    "gpos=sf[\"PartType5/Coordinates\"][:]\n",
    "idgr=np.sqrt(np.sum((gpos-cc)**2,axis=1))<=rr\n",
    "Ng5=gpos[idgr,0].size\n",
    "for pd in sf[\"PartType5\"].keys():\n",
    "    gp5.create_dataset(pd, data=sf[\"PartType5/\"+pd][:][idgr])"
   ]
  },
  {
   "cell_type": "code",
   "execution_count": 48,
   "metadata": {
    "ExecuteTime": {
     "end_time": "2019-04-15T09:15:22.573956Z",
     "start_time": "2019-04-15T09:15:22.566147Z"
    }
   },
   "outputs": [],
   "source": [
    "# redo the Header particle numbers\n",
    "dsh.attrs['NumPart_ThisFile'] = np.array([Ng0,Ng1,0,0,Ng4,Ng5],dtype=np.uint32)\n",
    "dsh.attrs['NumPart_Total'] = np.array([Ng0,Ng1,0,0,Ng4,Ng5],dtype=np.uint32)\n",
    "fo.close()"
   ]
  },
  {
   "cell_type": "code",
   "execution_count": null,
   "metadata": {},
   "outputs": [],
   "source": []
  }
 ],
 "metadata": {
  "hide_input": false,
  "kernelspec": {
   "display_name": "Python 3",
   "language": "python",
   "name": "python3"
  },
  "language_info": {
   "codemirror_mode": {
    "name": "ipython",
    "version": 3
   },
   "file_extension": ".py",
   "mimetype": "text/x-python",
   "name": "python",
   "nbconvert_exporter": "python",
   "pygments_lexer": "ipython3",
   "version": "3.6.7"
  }
 },
 "nbformat": 4,
 "nbformat_minor": 2
}
