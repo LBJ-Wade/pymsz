{
 "cells": [
  {
   "cell_type": "code",
   "execution_count": 2,
   "metadata": {
    "ExecuteTime": {
     "end_time": "2019-04-13T20:32:13.178541Z",
     "start_time": "2019-04-13T20:32:12.868316Z"
    }
   },
   "outputs": [],
   "source": [
    "import matplotlib\n",
    "%matplotlib inline\n",
    "from pylab import *\n",
    "import os, h5py\n",
    "from readsnapsgl import readsnapsgl\n",
    "\n",
    "matplotlib.rcParams['xtick.labelsize'] = 16\n",
    "matplotlib.rcParams['ytick.labelsize'] = 16\n",
    "\n",
    "safecolor={ 'silver':'#c0c0c0', 'gray':'#808080', 'black':'#000000', 'red':'#ff0000',\n",
    "    'maroon':'#800000', 'yellow':'#ffff00', 'olive':'#707030', 'lime':'#00ee00',\n",
    "    'green':'#009000', 'aqua':'#00eeee', 'teal':'#00a0a0', 'blue':'#0000ff',\n",
    "    'nave':'#000080', 'fuchsia':'#ff00ff', 'purple':'#900090'}"
   ]
  },
  {
   "cell_type": "code",
   "execution_count": 3,
   "metadata": {
    "ExecuteTime": {
     "end_time": "2019-04-13T20:32:14.328233Z",
     "start_time": "2019-04-13T20:32:14.290701Z"
    }
   },
   "outputs": [],
   "source": [
    "# The example cluster is from the 300 project run with GIZMO-Simba\n",
    "# cluster center and R200 from AHF halo catalogue\n",
    "sf = h5py.File('snap_128.hdf5','r')\n",
    "cc = np.asarray([  500095.89011853, 500286.04465527,  500481.30095660])\n",
    "rr = 1446.17"
   ]
  },
  {
   "cell_type": "code",
   "execution_count": 4,
   "metadata": {
    "ExecuteTime": {
     "end_time": "2019-04-13T20:32:15.819726Z",
     "start_time": "2019-04-13T20:32:15.780048Z"
    }
   },
   "outputs": [
    {
     "data": {
      "text/plain": [
       "<KeysViewHDF5 ['Header', 'PartType0', 'PartType1', 'PartType2', 'PartType3', 'PartType4', 'PartType5']>"
      ]
     },
     "execution_count": 4,
     "metadata": {},
     "output_type": "execute_result"
    }
   ],
   "source": [
    "# f = h5py.File(filename, 'w')\n",
    "\n",
    "# for key in data:\n",
    "#     f.create_dataset(key, data[key].shape, dtype=data[key].dtype,\n",
    "#                      compression='gzip')[...] = data[key]\n",
    "\n",
    "# f.close()\n",
    "\n",
    "sf.keys()"
   ]
  },
  {
   "cell_type": "code",
   "execution_count": 10,
   "metadata": {
    "ExecuteTime": {
     "end_time": "2019-04-14T20:28:35.832807Z",
     "start_time": "2019-04-14T20:28:35.820842Z"
    }
   },
   "outputs": [
    {
     "data": {
      "text/plain": [
       "'Header'"
      ]
     },
     "execution_count": 10,
     "metadata": {},
     "output_type": "execute_result"
    }
   ],
   "source": [
    "list(sf.keys())[0]"
   ]
  },
  {
   "cell_type": "code",
   "execution_count": 24,
   "metadata": {
    "ExecuteTime": {
     "end_time": "2019-04-14T22:12:05.396840Z",
     "start_time": "2019-04-14T22:12:05.388961Z"
    }
   },
   "outputs": [],
   "source": [
    "fo = h5py.File('snap_CL288.hdf5','w')"
   ]
  },
  {
   "cell_type": "code",
   "execution_count": 25,
   "metadata": {
    "ExecuteTime": {
     "end_time": "2019-04-14T22:12:06.779835Z",
     "start_time": "2019-04-14T22:12:06.760944Z"
    }
   },
   "outputs": [],
   "source": [
    "dsh=fo.create_group(\"Header\")\n",
    "for key, value in sf['Header'].attrs.items():\n",
    "    dsh.attrs[key] = value\n",
    "# fo.close()"
   ]
  },
  {
   "cell_type": "code",
   "execution_count": 26,
   "metadata": {
    "ExecuteTime": {
     "end_time": "2019-04-14T22:12:09.053733Z",
     "start_time": "2019-04-14T22:12:09.041747Z"
    }
   },
   "outputs": [],
   "source": [
    "gp0=fo.create_group(\"PartType0\")\n",
    "gp1=fo.create_group(\"PartType1\")\n",
    "gp2=fo.create_group(\"PartType2\")\n",
    "gp3=fo.create_group(\"PartType3\")\n",
    "gp4=fo.create_group(\"PartType4\")\n",
    "gp5=fo.create_group(\"PartType5\")"
   ]
  },
  {
   "cell_type": "code",
   "execution_count": 27,
   "metadata": {
    "ExecuteTime": {
     "end_time": "2019-04-14T22:14:16.442686Z",
     "start_time": "2019-04-14T22:14:16.203744Z"
    }
   },
   "outputs": [],
   "source": [
    "gpos=sf[\"PartType0/Coordinates\"][:]\n",
    "idgr=np.sqrt(np.sum((gpos-cc)**2,axis=1))<=rr"
   ]
  },
  {
   "cell_type": "code",
   "execution_count": 29,
   "metadata": {
    "ExecuteTime": {
     "end_time": "2019-04-14T22:16:14.573453Z",
     "start_time": "2019-04-14T22:16:14.559658Z"
    }
   },
   "outputs": [
    {
     "name": "stdout",
     "output_type": "stream",
     "text": [
      "AGS-Softening\n",
      "Coordinates\n",
      "DelayTime\n",
      "Density\n",
      "ElectronAbundance\n",
      "FractionH2\n",
      "GrackleHI\n",
      "GrackleHII\n",
      "GrackleHM\n",
      "GrackleHeI\n",
      "GrackleHeII\n",
      "GrackleHeIII\n",
      "HaloID\n",
      "ID_Generations\n",
      "InternalEnergy\n",
      "Masses\n",
      "Metallicity\n",
      "NWindLaunches\n",
      "NeutralHydrogenAbundance\n",
      "ParticleIDs\n",
      "Potential\n",
      "Sigma\n",
      "SmoothingLength\n",
      "StarFormationRate\n",
      "Velocities\n"
     ]
    }
   ],
   "source": [
    "for i in sf[\"PartType0\"].keys():\n",
    "    print(i)"
   ]
  },
  {
   "cell_type": "code",
   "execution_count": 31,
   "metadata": {
    "ExecuteTime": {
     "end_time": "2019-04-14T22:19:19.719291Z",
     "start_time": "2019-04-14T22:19:19.117761Z"
    }
   },
   "outputs": [],
   "source": [
    "# save gas particles\n",
    "for pd in sf[\"PartType0\"].keys():\n",
    "    gp0.create_dataset(pd, data=sf[\"PartType0/\"+pd][:][idgr])"
   ]
  },
  {
   "cell_type": "code",
   "execution_count": 32,
   "metadata": {
    "ExecuteTime": {
     "end_time": "2019-04-14T22:20:30.993502Z",
     "start_time": "2019-04-14T22:20:30.574045Z"
    }
   },
   "outputs": [],
   "source": [
    "# dm particles\n",
    "gpos=sf[\"PartType1/Coordinates\"][:]\n",
    "idgr=np.sqrt(np.sum((gpos-cc)**2,axis=1))<=rr\n",
    "for pd in sf[\"PartType1\"].keys():\n",
    "    gp1.create_dataset(pd, data=sf[\"PartType1/\"+pd][:][idgr])"
   ]
  },
  {
   "cell_type": "code",
   "execution_count": 33,
   "metadata": {
    "ExecuteTime": {
     "end_time": "2019-04-14T22:21:01.412289Z",
     "start_time": "2019-04-14T22:21:01.314370Z"
    }
   },
   "outputs": [],
   "source": [
    "# star particles\n",
    "gpos=sf[\"PartType4/Coordinates\"][:]\n",
    "idgr=np.sqrt(np.sum((gpos-cc)**2,axis=1))<=rr\n",
    "for pd in sf[\"PartType4\"].keys():\n",
    "    gp4.create_dataset(pd, data=sf[\"PartType4/\"+pd][:][idgr])"
   ]
  },
  {
   "cell_type": "code",
   "execution_count": 34,
   "metadata": {
    "ExecuteTime": {
     "end_time": "2019-04-14T22:21:21.859527Z",
     "start_time": "2019-04-14T22:21:21.829817Z"
    }
   },
   "outputs": [],
   "source": [
    "# bh particles\n",
    "gpos=sf[\"PartType5/Coordinates\"][:]\n",
    "idgr=np.sqrt(np.sum((gpos-cc)**2,axis=1))<=rr\n",
    "for pd in sf[\"PartType5\"].keys():\n",
    "    gp5.create_dataset(pd, data=sf[\"PartType5/\"+pd][:][idgr])"
   ]
  },
  {
   "cell_type": "code",
   "execution_count": 35,
   "metadata": {
    "ExecuteTime": {
     "end_time": "2019-04-14T22:21:39.874650Z",
     "start_time": "2019-04-14T22:21:39.865091Z"
    }
   },
   "outputs": [],
   "source": [
    "fo.close()"
   ]
  }
 ],
 "metadata": {
  "hide_input": false,
  "kernelspec": {
   "display_name": "Python 3",
   "language": "python",
   "name": "python3"
  },
  "language_info": {
   "codemirror_mode": {
    "name": "ipython",
    "version": 3
   },
   "file_extension": ".py",
   "mimetype": "text/x-python",
   "name": "python",
   "nbconvert_exporter": "python",
   "pygments_lexer": "ipython3",
   "version": "3.6.7"
  }
 },
 "nbformat": 4,
 "nbformat_minor": 2
}
